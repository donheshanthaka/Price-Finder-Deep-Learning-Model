{
 "cells": [
  {
   "cell_type": "code",
   "execution_count": 1,
   "id": "e855340c",
   "metadata": {},
   "outputs": [
    {
     "name": "stdout",
     "output_type": "stream",
     "text": [
      "There are 2 directories and 0 images in images\n",
      "There are 4 directories and 0 images in images\\test\n",
      "There are 0 directories and 284 images in images\\test\\Alto 2015\n",
      "There are 0 directories and 104 images in images\\test\\Hero Dash 2016\n",
      "There are 0 directories and 191 images in images\\test\\Toyota Aqua 2014\n",
      "There are 0 directories and 165 images in images\\test\\Wagon R Stingray 2018\n",
      "There are 4 directories and 0 images in images\\train\n",
      "There are 0 directories and 1133 images in images\\train\\Alto 2015\n",
      "There are 0 directories and 415 images in images\\train\\Hero Dash 2016\n",
      "There are 0 directories and 764 images in images\\train\\Toyota Aqua 2014\n",
      "There are 0 directories and 659 images in images\\train\\Wagon R Stingray 2018\n"
     ]
    }
   ],
   "source": [
    "import os\n",
    "\n",
    "# walk through images directory and list number of files\n",
    "for dirparth, dirnames, filenames in os.walk(\"images\"):\n",
    "  print(\"There are\", len(dirnames), \"directories and\", len(filenames), \"images in\", dirparth)"
   ]
  },
  {
   "cell_type": "code",
   "execution_count": 2,
   "id": "1dd38b0d",
   "metadata": {},
   "outputs": [
    {
     "name": "stdout",
     "output_type": "stream",
     "text": [
      "['Alto 2015' 'Hero Dash 2016' 'Toyota Aqua 2014' 'Wagon R Stingray 2018']\n"
     ]
    }
   ],
   "source": [
    "# get the class names \n",
    "\n",
    "import pathlib\n",
    "import numpy as np\n",
    "\n",
    "data_dir = pathlib.Path(\"images/train\")\n",
    "class_names = np.array(sorted([item.name for item in data_dir.glob(\"*\")])) # create a list of class_names from the subdirectories\n",
    "print(class_names) "
   ]
  },
  {
   "cell_type": "code",
   "execution_count": null,
   "id": "b461306e",
   "metadata": {},
   "outputs": [],
   "source": []
  }
 ],
 "metadata": {
  "kernelspec": {
   "display_name": "Python 3 (ipykernel)",
   "language": "python",
   "name": "python3"
  },
  "language_info": {
   "codemirror_mode": {
    "name": "ipython",
    "version": 3
   },
   "file_extension": ".py",
   "mimetype": "text/x-python",
   "name": "python",
   "nbconvert_exporter": "python",
   "pygments_lexer": "ipython3",
   "version": "3.8.8"
  }
 },
 "nbformat": 4,
 "nbformat_minor": 5
}
