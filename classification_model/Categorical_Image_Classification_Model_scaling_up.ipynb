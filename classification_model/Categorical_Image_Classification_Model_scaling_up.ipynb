{
 "cells": [
  {
   "cell_type": "code",
   "execution_count": 1,
   "id": "cffcffb8",
   "metadata": {},
   "outputs": [],
   "source": [
    "# Import series of helper functions for our notebook\n",
    "from helper_script import create_tensorboard_callback, plot_loss_curves, compare_history, walk_through_dir"
   ]
  },
  {
   "cell_type": "code",
   "execution_count": 2,
   "id": "8fc76133",
   "metadata": {},
   "outputs": [
    {
     "name": "stdout",
     "output_type": "stream",
     "text": [
      "There are 2 directories and 0 images in 'images'.\n",
      "There are 4 directories and 0 images in 'images\\test'.\n",
      "There are 0 directories and 282 images in 'images\\test\\Alto 2015'.\n",
      "There are 0 directories and 101 images in 'images\\test\\Hero Dash 2016'.\n",
      "There are 0 directories and 187 images in 'images\\test\\Toyota Aqua 2014'.\n",
      "There are 0 directories and 165 images in 'images\\test\\Wagon R Stingray 2018'.\n",
      "There are 4 directories and 0 images in 'images\\train'.\n",
      "There are 0 directories and 1115 images in 'images\\train\\Alto 2015'.\n",
      "There are 0 directories and 411 images in 'images\\train\\Hero Dash 2016'.\n",
      "There are 0 directories and 749 images in 'images\\train\\Toyota Aqua 2014'.\n",
      "There are 0 directories and 659 images in 'images\\train\\Wagon R Stingray 2018'.\n"
     ]
    }
   ],
   "source": [
    "walk_through_dir(\"images\")"
   ]
  },
  {
   "cell_type": "code",
   "execution_count": null,
   "id": "3f9a43d6",
   "metadata": {},
   "outputs": [],
   "source": []
  }
 ],
 "metadata": {
  "kernelspec": {
   "display_name": "Python 3 (ipykernel)",
   "language": "python",
   "name": "python3"
  },
  "language_info": {
   "codemirror_mode": {
    "name": "ipython",
    "version": 3
   },
   "file_extension": ".py",
   "mimetype": "text/x-python",
   "name": "python",
   "nbconvert_exporter": "python",
   "pygments_lexer": "ipython3",
   "version": "3.8.13"
  }
 },
 "nbformat": 4,
 "nbformat_minor": 5
}
