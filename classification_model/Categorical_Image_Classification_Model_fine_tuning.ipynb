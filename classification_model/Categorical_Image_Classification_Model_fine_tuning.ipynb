{
 "cells": [
  {
   "cell_type": "markdown",
   "id": "32a0b0a5",
   "metadata": {},
   "source": [
    "## A helper function that converts images to RGB "
   ]
  },
  {
   "cell_type": "code",
   "execution_count": null,
   "id": "c665564f",
   "metadata": {},
   "outputs": [],
   "source": [
    "import os\n",
    "import imghdr\n",
    "from PIL import Image\n",
    "\n",
    "def convert_images_rgb(path):\n",
    "    \"\"\"\n",
    "    Converts images to RGB in the given directory.\n",
    "    \n",
    "    Args:\n",
    "        path: String value to the image directory(folder)\n",
    "        \n",
    "    Returns:\n",
    "        None\n",
    "    \"\"\"\n",
    "    images = os.listdir(path)\n",
    "    for image in images:\n",
    "        img_dir = path + \"\\\\\"+ image\n",
    "        im = Image.open(img_dir)\n",
    "        rgb_im = im.convert(\"RGB\")\n",
    "        rgb_im.save(img_dir)\n",
    "        print(f\"File Name: {image} Type: {imghdr.what(img_dir)}\")"
   ]
  },
  {
   "cell_type": "code",
   "execution_count": 69,
   "id": "fefdb7f3",
   "metadata": {
    "scrolled": false
   },
   "outputs": [
    {
     "name": "stdout",
     "output_type": "stream",
     "text": [
      "\n",
      "Scanning folder: test\\Alto 2015\n",
      "\n",
      "\n",
      "Scanning folder: test\\Hero Dash 2016\n",
      "\n",
      "\n",
      "Scanning folder: test\\Toyota Aqua 2014\n",
      "\n",
      "\n",
      "Scanning folder: train\\Alto 2015\n",
      "\n",
      "\n",
      "Scanning folder: train\\Hero Dash 2016\n",
      "\n",
      "\n",
      "Scanning folder: train\\Toyota Aqua 2014\n",
      "\n"
     ]
    }
   ],
   "source": [
    "PATH = \"D:\\Projects\\Python\\Projects\\Price Finder\\classification_model\\images\"\n",
    "\n",
    "# loops through the sub-directories and call the convert_images_rgb() function\n",
    "for dir_name in os.listdir(PATH):\n",
    "    dir_path = PATH + \"\\\\\" + dir_name\n",
    "    for folder_name in os.listdir(dir_path):\n",
    "        print(f\"\\nScanning folder: {dir_name}\\{folder_name}\\n\")\n",
    "        image_folder_path = dir_path + \"\\\\\" + folder_name\n",
    "        convert_images_rgb(image_folder_path)"
   ]
  },
  {
   "cell_type": "code",
   "execution_count": 11,
   "id": "e8290225",
   "metadata": {},
   "outputs": [],
   "source": [
    "# Creating training set and test directory paths\n",
    "\n",
    "train_dir = \"images/train\"\n",
    "test_dir = \"images/test\""
   ]
  },
  {
   "cell_type": "code",
   "execution_count": 12,
   "id": "e1fe7a3a",
   "metadata": {},
   "outputs": [
    {
     "name": "stdout",
     "output_type": "stream",
     "text": [
      "Found 2275 files belonging to 3 classes.\n",
      "Found 570 files belonging to 3 classes.\n"
     ]
    }
   ],
   "source": [
    "import tensorflow as tf\n",
    "\n",
    "IMG_SIZE = (224, 224)\n",
    "BATCH_SIZE = 32\n",
    "train_data = tf.keras.preprocessing.image_dataset_from_directory(directory = train_dir,\n",
    "                                                                            image_size = IMG_SIZE,\n",
    "                                                                            label_mode = \"categorical\",\n",
    "                                                                            batch_size = BATCH_SIZE)\n",
    "\n",
    "test_data = tf.keras.preprocessing.image_dataset_from_directory(directory = test_dir,\n",
    "                                                                image_size = IMG_SIZE,\n",
    "                                                                label_mode = \"categorical\",\n",
    "                                                                batch_size = BATCH_SIZE)"
   ]
  },
  {
   "cell_type": "code",
   "execution_count": 13,
   "id": "dfae89ca",
   "metadata": {},
   "outputs": [
    {
     "data": {
      "text/plain": [
       "['Alto 2015', 'Hero Dash 2016', 'Toyota Aqua 2014']"
      ]
     },
     "execution_count": 13,
     "metadata": {},
     "output_type": "execute_result"
    }
   ],
   "source": [
    "# Checking out the class names\n",
    "train_data.class_names"
   ]
  },
  {
   "cell_type": "code",
   "execution_count": 15,
   "id": "4c2f9d4c",
   "metadata": {},
   "outputs": [],
   "source": [
    "# Helper function to create tensorboard callbacks\n",
    "import datetime\n",
    "\n",
    "def create_tensorboard_callback(dir_name, experiment_name):\n",
    "  log_dir = dir_name + \"/\" + experiment_name + \"/\" + datetime.datetime.now().strftime(\"%Y%m%d-%H%M%S\")\n",
    "  tensorboard_callback = tf.keras.callbacks.TensorBoard(log_dir = log_dir)\n",
    "  print(f\"Saving TensorBoard log files to: {log_dir}\")\n",
    "  return tensorboard_callback"
   ]
  },
  {
   "cell_type": "code",
   "execution_count": 17,
   "id": "e0e06a42",
   "metadata": {},
   "outputs": [
    {
     "name": "stdout",
     "output_type": "stream",
     "text": [
      "Shape after passing inputs through base model: (None, 7, 7, 1280)\n",
      "Shape after GlobalAveragePooling2D: (None, 1280)\n",
      "Epoch 1/5\n",
      "72/72 [==============================] - 38s 380ms/step - loss: 0.3794 - accuracy: 0.8840 - val_loss: 0.2064 - val_accuracy: 0.9453\n",
      "Epoch 2/5\n",
      "72/72 [==============================] - 26s 351ms/step - loss: 0.1690 - accuracy: 0.9473 - val_loss: 0.1158 - val_accuracy: 0.9688\n",
      "Epoch 3/5\n",
      "72/72 [==============================] - 26s 352ms/step - loss: 0.1306 - accuracy: 0.9604 - val_loss: 0.1097 - val_accuracy: 0.9922\n",
      "Epoch 4/5\n",
      "72/72 [==============================] - 26s 352ms/step - loss: 0.1130 - accuracy: 0.9679 - val_loss: 0.1159 - val_accuracy: 0.9688\n",
      "Epoch 5/5\n",
      "72/72 [==============================] - 26s 351ms/step - loss: 0.0908 - accuracy: 0.9767 - val_loss: 0.1145 - val_accuracy: 0.9688\n"
     ]
    }
   ],
   "source": [
    "# 1. Create the base model with tf.keras.applications\n",
    "base_model = tf.keras.applications.EfficientNetB0(include_top = False)\n",
    "\n",
    "# 2. Freeze the base model (the underlying pre-trained patterns aren't updated during training)\n",
    "base_model.trainable = False\n",
    "\n",
    "# 3. Create inputs into our model\n",
    "inputs = tf.keras.layers.Input(shape = (224, 224, 3), name = \"input_layer\")\n",
    "\n",
    "# 4. If using a model like ResNet50V2 you will need to normalize inputs (you don't have to for EfficientNet(s))\n",
    "# x = tf.keras.layers.experimental.preprocessing.Rescaling(1./255)(inputs)\n",
    "\n",
    "# 5. Pass the inputs to the base_model\n",
    "x = base_model(inputs)\n",
    "print(f\"Shape after passing inputs through base model: {x.shape}\")\n",
    "\n",
    "# 6. Avergae pool the outputs of the base model (aggregate all the most important information, reduce the number of computations)\n",
    "x = tf.keras.layers.GlobalAveragePooling2D(name = \"global_average_pooling_layer\")(x)\n",
    "print(f\"Shape after GlobalAveragePooling2D: {x.shape}\")\n",
    "\n",
    "# 7. Create the output activation layer\n",
    "outputs = tf.keras.layers.Dense(3, activation = \"softmax\", name = \"output_layer\")(x)\n",
    "\n",
    "# 8. Combine the inputs with the outputs into a model\n",
    "model_0 = tf.keras.Model(inputs, outputs)\n",
    "\n",
    "# 9. Compile the model\n",
    "model_0.compile(loss = \"categorical_crossentropy\",\n",
    "                optimizer = tf.keras.optimizers.Adam(),\n",
    "                metrics = [\"accuracy\"])\n",
    "\n",
    "# 10. Fit the model and save its history\n",
    "history_1 = model_0.fit(train_data,\n",
    "                                 epochs = 5,\n",
    "                                 steps_per_epoch = len(train_data),\n",
    "                                 validation_data = test_data,\n",
    "                                 validation_steps = int( 0.25 * len(test_data)))"
   ]
  },
  {
   "cell_type": "code",
   "execution_count": 17,
   "id": "e4989c8b",
   "metadata": {},
   "outputs": [],
   "source": [
    "# import os\n",
    "# from PIL import Image\n",
    "# import cv2\n",
    "# import matplotlib.image as mpimg\n",
    "\n",
    "# def convert_images_rgb(path):\n",
    "#     \"\"\"\n",
    "#     Converts images that contains more than 3 color channels to RGB in the given directory.\n",
    "    \n",
    "#     Args:\n",
    "#         path: String value to the image directory(folder)\n",
    "        \n",
    "#     Returns:\n",
    "#         None\n",
    "#     \"\"\"\n",
    "#     images = os.listdir(path)\n",
    "#     for image in images:\n",
    "#         img_dir = path + \"\\\\\"+ image\n",
    "#         img = mpimg.imread(img_dir)\n",
    "#         if(img.shape[2] > 3):\n",
    "#             print(f\"File: {img_dir} | Shape: {img.shape}\")\n",
    "#             rgba_image = cv2.imread(img_dir)\n",
    "#             cv2.imwrite(img_dir, rgba_image)\n",
    "#             print(f\"File: {image} converted to 3 color channels | shape: {rgba_image.shape}\")"
   ]
  },
  {
   "cell_type": "code",
   "execution_count": 20,
   "id": "dcbd19d8",
   "metadata": {
    "scrolled": true
   },
   "outputs": [],
   "source": [
    "# PATH = \"D:\\Projects\\Python\\Projects\\Price Finder\\classification_model\\images\"\n",
    "\n",
    "# import os\n",
    "# import cv2\n",
    "# import matplotlib.image as mpimg\n",
    "\n",
    "# # loops through the sub-directories and call the convert_images_rgb() function\n",
    "# for dir_name in os.listdir(PATH):\n",
    "#     dir_path = PATH + \"\\\\\" + dir_name\n",
    "#     for folder_name in os.listdir(dir_path):\n",
    "#         print(f\"\\nScanning folder: {dir_name}\\{folder_name}\\n\")\n",
    "#         image_folder_path = dir_path + \"\\\\\" + folder_name\n",
    "        \n",
    "#         images = os.listdir(image_folder_path)\n",
    "        \n",
    "#         for image in images:\n",
    "#             img_dir = image_folder_path + \"\\\\\"+ image\n",
    "#             img = mpimg.imread(img_dir)\n",
    "#             if(img.shape[2] > 3):\n",
    "#                 print(f\"File: {img_dir} | Shape: {img.shape}\")\n",
    "# #                 rgba_image = cv2.imread(img_dir)\n",
    "# #                 cv2.imwrite(img_dir, rgba_image)\n",
    "# #                 print(f\"File: {image} converted to 3 color channels | shape: {rgba_image.shape}\")\n",
    "        \n"
   ]
  },
  {
   "cell_type": "code",
   "execution_count": 21,
   "id": "7fc3c696",
   "metadata": {},
   "outputs": [],
   "source": [
    "# import imghdr\n",
    "# import os\n",
    "# from PIL import Image\n",
    "\n",
    "# PATH = \"images\\\\\"\n",
    "\n",
    "# for dir_name in os.listdir(PATH):\n",
    "#     dir_path = PATH + \"\\\\\" + dir_name\n",
    "#     for folder_name in os.listdir(dir_path):\n",
    "#         print(f\"\\nScanning folder: {dir_name}\\{folder_name}\\n\")\n",
    "#         image_folder_path = dir_path + \"\\\\\" + folder_name\n",
    "#         images = os.listdir(image_folder_path)\n",
    "#         for image in images:\n",
    "#             img_dir = image_folder_path + \"\\\\\"+ image\n",
    "#             im = Image.open(img_dir)\n",
    "#             rgb_im = im.convert(\"RGB\")\n",
    "#             #print(f\"File Name: {image} Type: {imghdr.what(img_dir)}\")\n",
    "#             rgb_im.save(img_dir)\n",
    "#             #print(\"After Conversion\")\n",
    "#             print(f\"File Name: {image} Type: {imghdr.what(img_dir)}\")"
   ]
  },
  {
   "cell_type": "code",
   "execution_count": 18,
   "id": "f58bae4f",
   "metadata": {
    "scrolled": false
   },
   "outputs": [
    {
     "name": "stdout",
     "output_type": "stream",
     "text": [
      "18/18 [==============================] - 8s 405ms/step - loss: 0.1022 - accuracy: 0.9702\n"
     ]
    },
    {
     "data": {
      "text/plain": [
       "[0.10215950012207031, 0.9701754450798035]"
      ]
     },
     "execution_count": 18,
     "metadata": {},
     "output_type": "execute_result"
    }
   ],
   "source": [
    "# Evaluate on the full test dataset\n",
    "model_0.evaluate(test_data)"
   ]
  },
  {
   "cell_type": "code",
   "execution_count": 16,
   "id": "7aaf4f21",
   "metadata": {},
   "outputs": [],
   "source": [
    "import matplotlib.pyplot as plt\n",
    "def plot_loss_curves(history):\n",
    "  \"\"\"\n",
    "  Returns seperate loss curves for training and validaion metrics.\n",
    "\n",
    "  Args:\n",
    "    history: TensorFlow history object\n",
    "\n",
    "  Returns:\n",
    "    Plots of training/validation loss and accuracy metrics\n",
    "  \"\"\"\n",
    "  \n",
    "  loss = history.history[\"loss\"]\n",
    "  val_loss = history.history[\"val_loss\"]\n",
    "\n",
    "  accuracy = history.history[\"accuracy\"]\n",
    "  val_accuracy = history.history[\"val_accuracy\"]\n",
    "\n",
    "  epochs = range(len(history.history[\"loss\"])) # how many epochs we run for\n",
    "\n",
    "  # Plot loss\n",
    "  plt.plot(epochs, loss, label = \"training_loss\")\n",
    "  plt.plot(epochs, val_loss, label = \"val_loss\")\n",
    "  plt.title(\"loss\")\n",
    "  plt.xlabel(\"epochs\")\n",
    "  plt.legend()\n",
    "\n",
    "  # Plot accuracy\n",
    "  plt.figure()\n",
    "  plt.plot(epochs, accuracy, label = \"training_accuracy\")\n",
    "  plt.plot(epochs, val_accuracy, label = \"val_accuracy\")\n",
    "  plt.title(\"accuracy\")\n",
    "  plt.xlabel(\"epochs\")\n",
    "  plt.legend()"
   ]
  },
  {
   "cell_type": "code",
   "execution_count": 19,
   "id": "3845c5aa",
   "metadata": {
    "scrolled": false
   },
   "outputs": [
    {
     "data": {
      "image/png": "[encoded data removed]",
      "text/plain": [
       "<Figure size 432x288 with 1 Axes>"
      ]
     },
     "metadata": {
      "needs_background": "light"
     },
     "output_type": "display_data"
    },
    {
     "data": {
      "image/png": "[encoded data removed]",
      "text/plain": [
       "<Figure size 432x288 with 1 Axes>"
      ]
     },
     "metadata": {
      "needs_background": "light"
     },
     "output_type": "display_data"
    }
   ],
   "source": [
    "# Checking the model's training curves\n",
    "plot_loss_curves(history_1)"
   ]
  },
  {
   "cell_type": "code",
   "execution_count": null,
   "id": "9166a179",
   "metadata": {},
   "outputs": [],
   "source": []
  }
 ],
 "metadata": {
  "kernelspec": {
   "display_name": "Python 3 (ipykernel)",
   "language": "python",
   "name": "python3"
  },
  "language_info": {
   "codemirror_mode": {
    "name": "ipython",
    "version": 3
   },
   "file_extension": ".py",
   "mimetype": "text/x-python",
   "name": "python",
   "nbconvert_exporter": "python",
   "pygments_lexer": "ipython3",
   "version": "3.8.13"
  }
 },
 "nbformat": 4,
 "nbformat_minor": 5
}
