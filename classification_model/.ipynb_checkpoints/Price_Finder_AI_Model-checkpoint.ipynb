{
 "cells": [
  {
   "cell_type": "markdown",
   "id": "c99d0fa9",
   "metadata": {},
   "source": [
    "# Price Finder Feature Extraction Model"
   ]
  },
  {
   "cell_type": "markdown",
   "id": "805ac7ea",
   "metadata": {},
   "source": [
    "This notebook contains the development of the CNN image classification model used in the Price Finder API to identify vehicles through images"
   ]
  },
  {
   "cell_type": "markdown",
   "id": "82a96e2d",
   "metadata": {},
   "source": [
    "## Image Preprocessing\n",
    "\n",
    "Image preprocessing is done through converting the downloaded images into rgb color format since there can be instances where images of different types such as png to be automatically saved as jpg through the web scraper used, but in reality they would still contain that extra alpha channel making those images 4-channels. For the model that is developed for the Price Finder API, all the images should be converted in 3-channels. Therefore RGB"
   ]
  },
  {
   "cell_type": "code",
   "execution_count": null,
   "id": "225b495d",
   "metadata": {},
   "outputs": [],
   "source": [
    "# A script from the helper_function is used to convert the images\n",
    "\n"
   ]
  },
  {
   "cell_type": "code",
   "execution_count": null,
   "id": "a6d0565a",
   "metadata": {},
   "outputs": [],
   "source": []
  }
 ],
 "metadata": {
  "kernelspec": {
   "display_name": "Python 3 (ipykernel)",
   "language": "python",
   "name": "python3"
  },
  "language_info": {
   "codemirror_mode": {
    "name": "ipython",
    "version": 3
   },
   "file_extension": ".py",
   "mimetype": "text/x-python",
   "name": "python",
   "nbconvert_exporter": "python",
   "pygments_lexer": "ipython3",
   "version": "3.8.8"
  }
 },
 "nbformat": 4,
 "nbformat_minor": 5
}
