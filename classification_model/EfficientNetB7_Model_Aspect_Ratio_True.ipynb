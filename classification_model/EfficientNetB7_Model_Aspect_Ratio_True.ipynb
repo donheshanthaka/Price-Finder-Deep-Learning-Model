{
 "cells": [
  {
   "cell_type": "code",
   "execution_count": 1,
   "id": "e45eb086",
   "metadata": {},
   "outputs": [],
   "source": [
    "from helper_script import create_tensorboard_callback, save_model, plot_loss_curves"
   ]
  },
  {
   "cell_type": "code",
   "execution_count": 2,
   "id": "10afd030",
   "metadata": {},
   "outputs": [],
   "source": [
    "# Creating training set and test directory paths\n",
    "\n",
    "train_dir = \"images/train\"\n",
    "test_dir = \"images/test\""
   ]
  },
  {
   "cell_type": "code",
   "execution_count": 3,
   "id": "c3b09077",
   "metadata": {},
   "outputs": [
    {
     "name": "stdout",
     "output_type": "stream",
     "text": [
      "Found 3336 files belonging to 4 classes.\n",
      "Found 401 files belonging to 4 classes.\n",
      "Found 401 files belonging to 4 classes.\n"
     ]
    }
   ],
   "source": [
    "train_dir = \"images/train\"\n",
    "test_dir = \"images/test\"\n",
    "validation_dir = \"images/validate\"\n",
    "\n",
    "import tensorflow as tf\n",
    "\n",
    "IMG_SIZE = (224, 224)\n",
    "BATCH_SIZE = 32\n",
    "train_data = tf.keras.preprocessing.image_dataset_from_directory(train_dir,\n",
    "                                                                           label_mode=\"categorical\",\n",
    "                                                                           image_size=IMG_SIZE,\n",
    "                                                                           batch_size=BATCH_SIZE,\n",
    "                                                                crop_to_aspect_ratio=False)\n",
    "\n",
    "test_data = tf.keras.preprocessing.image_dataset_from_directory(test_dir,\n",
    "                                                                label_mode=\"categorical\",\n",
    "                                                                image_size=IMG_SIZE,\n",
    "                                                                batch_size=BATCH_SIZE,\n",
    "                                                                shuffle=False,\n",
    "                                                               crop_to_aspect_ratio=False)\n",
    "\n",
    "validation_data = tf.keras.preprocessing.image_dataset_from_directory(validation_dir,\n",
    "                                                                label_mode=\"categorical\",\n",
    "                                                                image_size=IMG_SIZE,\n",
    "                                                                batch_size=BATCH_SIZE,\n",
    "                                                                shuffle=False,\n",
    "                                                                     crop_to_aspect_ratio=False)"
   ]
  },
  {
   "cell_type": "code",
   "execution_count": 4,
   "id": "8b2e7266",
   "metadata": {},
   "outputs": [
    {
     "data": {
      "text/plain": [
       "['Alto 2015', 'Hero Dash 2016', 'Toyota Aqua 2014', 'Wagon R Stingray 2018']"
      ]
     },
     "execution_count": 4,
     "metadata": {},
     "output_type": "execute_result"
    }
   ],
   "source": [
    "# Checking out the class names\n",
    "train_data.class_names"
   ]
  },
  {
   "cell_type": "code",
   "execution_count": 8,
   "id": "db0cb791",
   "metadata": {},
   "outputs": [
    {
     "name": "stdout",
     "output_type": "stream",
     "text": [
      "Shape after passing inputs through base model: (None, 7, 7, 2304)\n",
      "Shape after GlobalAveragePooling2D: (None, 2304)\n",
      "Saving TensorBoard log files to: transfer_learning/EfficientNetB6/20220628-215958\n",
      "Epoch 1/7\n",
      "105/105 [==============================] - 196s 2s/step - loss: 0.5012 - accuracy: 0.8243 - val_loss: 0.2502 - val_accuracy: 0.9352\n",
      "Epoch 2/7\n",
      "105/105 [==============================] - 180s 2s/step - loss: 0.2527 - accuracy: 0.9218 - val_loss: 0.1802 - val_accuracy: 0.9551\n",
      "Epoch 3/7\n",
      "105/105 [==============================] - 180s 2s/step - loss: 0.1960 - accuracy: 0.9436 - val_loss: 0.1555 - val_accuracy: 0.9551\n",
      "Epoch 4/7\n",
      "105/105 [==============================] - 180s 2s/step - loss: 0.1665 - accuracy: 0.9562 - val_loss: 0.1359 - val_accuracy: 0.9651\n",
      "Epoch 5/7\n",
      "105/105 [==============================] - 180s 2s/step - loss: 0.1402 - accuracy: 0.9619 - val_loss: 0.1271 - val_accuracy: 0.9651\n",
      "Epoch 6/7\n",
      "105/105 [==============================] - 180s 2s/step - loss: 0.1288 - accuracy: 0.9658 - val_loss: 0.1146 - val_accuracy: 0.9701\n",
      "Epoch 7/7\n",
      "105/105 [==============================] - 180s 2s/step - loss: 0.1155 - accuracy: 0.9682 - val_loss: 0.1114 - val_accuracy: 0.9726\n"
     ]
    }
   ],
   "source": [
    "# 1. Create the base model with tf.keras.applications\n",
    "base_model = tf.keras.applications.EfficientNetB6(include_top = False)\n",
    "\n",
    "# 2. Freeze the base model (the underlying pre-trained patterns aren't updated during training)\n",
    "base_model.trainable = False\n",
    "\n",
    "# 3. Create inputs into our model\n",
    "inputs = tf.keras.layers.Input(shape = (224, 224, 3), name = \"input_layer\")\n",
    "\n",
    "# 4. If using a model like ResNet50V2 you will need to normalize inputs (you don't have to for EfficientNet(s))\n",
    "# x = tf.keras.layers.experimental.preprocessing.Rescaling(1./255)(inputs)\n",
    "\n",
    "# 5. Pass the inputs to the base_model\n",
    "x = base_model(inputs)\n",
    "print(f\"Shape after passing inputs through base model: {x.shape}\")\n",
    "\n",
    "# 6. Avergae pool the outputs of the base model (aggregate all the most important information, reduce the number of computations)\n",
    "x = tf.keras.layers.GlobalAveragePooling2D(name = \"global_average_pooling_layer\")(x)\n",
    "print(f\"Shape after GlobalAveragePooling2D: {x.shape}\")\n",
    "\n",
    "# 7. Create the output activation layer\n",
    "outputs = tf.keras.layers.Dense(4, activation = \"softmax\", name = \"output_layer\")(x)\n",
    "\n",
    "# 8. Combine the inputs with the outputs into a model\n",
    "model_1 = tf.keras.Model(inputs, outputs)\n",
    "\n",
    "# 9. Compile the model\n",
    "model_1.compile(loss = \"categorical_crossentropy\",\n",
    "                optimizer = tf.keras.optimizers.Adam(),\n",
    "                metrics = [\"accuracy\"])\n",
    "\n",
    "# 10. Fit the model and save its history\n",
    "history_1 = model_1.fit(train_data,\n",
    "                        epochs = 7,\n",
    "                        steps_per_epoch = len(train_data),\n",
    "                        validation_data = validation_data,\n",
    "                        validation_steps = len(validation_data),\n",
    "                        callbacks = [create_tensorboard_callback(dir_name = \"transfer_learning\",\n",
    "                                                                experiment_name = \"EfficientNetB6\")])"
   ]
  },
  {
   "cell_type": "code",
   "execution_count": 9,
   "id": "8ab6b719",
   "metadata": {},
   "outputs": [
    {
     "name": "stdout",
     "output_type": "stream",
     "text": [
      "13/13 [==============================] - 19s 1s/step - loss: 0.1070 - accuracy: 0.9676\n"
     ]
    },
    {
     "data": {
      "text/plain": [
       "[0.10695373266935349, 0.967581033706665]"
      ]
     },
     "execution_count": 9,
     "metadata": {},
     "output_type": "execute_result"
    }
   ],
   "source": [
    "# Evaluate on the full test dataset\n",
    "model_1.evaluate(test_data)"
   ]
  },
  {
   "cell_type": "code",
   "execution_count": 10,
   "id": "66e0bbfa",
   "metadata": {},
   "outputs": [
    {
     "data": {
      "image/png": "[encoded data removed]",
      "text/plain": [
       "<Figure size 432x288 with 1 Axes>"
      ]
     },
     "metadata": {
      "needs_background": "light"
     },
     "output_type": "display_data"
    },
    {
     "data": {
      "image/png": "[encoded data removed]",
      "text/plain": [
       "<Figure size 432x288 with 1 Axes>"
      ]
     },
     "metadata": {
      "needs_background": "light"
     },
     "output_type": "display_data"
    }
   ],
   "source": [
    "# Checking the model's training curves\n",
    "plot_loss_curves(history_1)"
   ]
  },
  {
   "cell_type": "code",
   "execution_count": null,
   "id": "414765d7",
   "metadata": {},
   "outputs": [
    {
     "name": "stderr",
     "output_type": "stream",
     "text": [
      "WARNING:absl:Found untraced functions such as _jit_compiled_convolution_op, _jit_compiled_convolution_op, _jit_compiled_convolution_op, _jit_compiled_convolution_op, _jit_compiled_convolution_op while saving (showing 5 of 224). These functions will not be directly callable after loading.\n"
     ]
    }
   ],
   "source": [
    "save_model(model_1, \"feature_extraction_efficientnetB6\")"
   ]
  },
  {
   "cell_type": "code",
   "execution_count": null,
   "id": "a945af74",
   "metadata": {},
   "outputs": [],
   "source": []
  }
 ],
 "metadata": {
  "kernelspec": {
   "display_name": "Python 3 (ipykernel)",
   "language": "python",
   "name": "python3"
  },
  "language_info": {
   "codemirror_mode": {
    "name": "ipython",
    "version": 3
   },
   "file_extension": ".py",
   "mimetype": "text/x-python",
   "name": "python",
   "nbconvert_exporter": "python",
   "pygments_lexer": "ipython3",
   "version": "3.8.8"
  }
 },
 "nbformat": 4,
 "nbformat_minor": 5
}
