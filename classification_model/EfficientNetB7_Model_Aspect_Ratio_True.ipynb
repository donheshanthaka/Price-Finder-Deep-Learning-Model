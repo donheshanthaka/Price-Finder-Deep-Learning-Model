{
 "cells": [
  {
   "cell_type": "code",
   "execution_count": 7,
   "id": "6a069686",
   "metadata": {},
   "outputs": [],
   "source": [
    "from helper_script import create_tensorboard_callback, save_model, plot_loss_curves"
   ]
  },
  {
   "cell_type": "code",
   "execution_count": 1,
   "id": "47170425",
   "metadata": {},
   "outputs": [],
   "source": [
    "# Creating training set and test directory paths\n",
    "\n",
    "train_dir = \"images/train\"\n",
    "test_dir = \"images/test\""
   ]
  },
  {
   "cell_type": "code",
   "execution_count": 2,
   "id": "9e23d4d2",
   "metadata": {},
   "outputs": [
    {
     "name": "stdout",
     "output_type": "stream",
     "text": [
      "Found 3336 files belonging to 4 classes.\n",
      "Found 401 files belonging to 4 classes.\n",
      "Found 401 files belonging to 4 classes.\n"
     ]
    }
   ],
   "source": [
    "train_dir = \"images/train\"\n",
    "test_dir = \"images/test\"\n",
    "validation_dir = \"images/validate\"\n",
    "\n",
    "import tensorflow as tf\n",
    "\n",
    "IMG_SIZE = (224, 224)\n",
    "BATCH_SIZE = 32\n",
    "train_data = tf.keras.preprocessing.image_dataset_from_directory(train_dir,\n",
    "                                                                           label_mode=\"categorical\",\n",
    "                                                                           image_size=IMG_SIZE,\n",
    "                                                                           batch_size=BATCH_SIZE,\n",
    "                                                                crop_to_aspect_ratio=True)\n",
    "\n",
    "test_data = tf.keras.preprocessing.image_dataset_from_directory(test_dir,\n",
    "                                                                label_mode=\"categorical\",\n",
    "                                                                image_size=IMG_SIZE,\n",
    "                                                                batch_size=BATCH_SIZE,\n",
    "                                                                shuffle=False,\n",
    "                                                               crop_to_aspect_ratio=True)\n",
    "\n",
    "validation_data = tf.keras.preprocessing.image_dataset_from_directory(validation_dir,\n",
    "                                                                label_mode=\"categorical\",\n",
    "                                                                image_size=IMG_SIZE,\n",
    "                                                                batch_size=BATCH_SIZE,\n",
    "                                                                shuffle=False,\n",
    "                                                                     crop_to_aspect_ratio=True)"
   ]
  },
  {
   "cell_type": "code",
   "execution_count": 3,
   "id": "e9a73121",
   "metadata": {},
   "outputs": [
    {
     "data": {
      "text/plain": [
       "['Alto 2015', 'Hero Dash 2016', 'Toyota Aqua 2014', 'Wagon R Stingray 2018']"
      ]
     },
     "execution_count": 3,
     "metadata": {},
     "output_type": "execute_result"
    }
   ],
   "source": [
    "# Checking out the class names\n",
    "train_data.class_names"
   ]
  },
  {
   "cell_type": "code",
   "execution_count": 8,
   "id": "9079c733",
   "metadata": {},
   "outputs": [
    {
     "name": "stdout",
     "output_type": "stream",
     "text": [
      "Shape after passing inputs through base model: (None, 7, 7, 2560)\n",
      "Shape after GlobalAveragePooling2D: (None, 2560)\n",
      "Saving TensorBoard log files to: transfer_learning/model_1_feature_extraction/20220618-034957\n",
      "Epoch 1/5\n",
      "105/105 [==============================] - 298s 3s/step - loss: 0.4303 - accuracy: 0.8555 - val_loss: 0.2248 - val_accuracy: 0.9426\n",
      "Epoch 2/5\n",
      "105/105 [==============================] - 253s 2s/step - loss: 0.2154 - accuracy: 0.9353 - val_loss: 0.1585 - val_accuracy: 0.9526\n",
      "Epoch 3/5\n",
      "105/105 [==============================] - 255s 2s/step - loss: 0.1634 - accuracy: 0.9514 - val_loss: 0.1297 - val_accuracy: 0.9701\n",
      "Epoch 4/5\n",
      "105/105 [==============================] - 254s 2s/step - loss: 0.1355 - accuracy: 0.9613 - val_loss: 0.1142 - val_accuracy: 0.9651\n",
      "Epoch 5/5\n",
      "105/105 [==============================] - 254s 2s/step - loss: 0.1170 - accuracy: 0.9676 - val_loss: 0.1002 - val_accuracy: 0.9776\n"
     ]
    }
   ],
   "source": [
    "# 1. Create the base model with tf.keras.applications\n",
    "base_model = tf.keras.applications.EfficientNetB7(include_top = False)\n",
    "\n",
    "# 2. Freeze the base model (the underlying pre-trained patterns aren't updated during training)\n",
    "base_model.trainable = False\n",
    "\n",
    "# 3. Create inputs into our model\n",
    "inputs = tf.keras.layers.Input(shape = (224, 224, 3), name = \"input_layer\")\n",
    "\n",
    "# 4. If using a model like ResNet50V2 you will need to normalize inputs (you don't have to for EfficientNet(s))\n",
    "# x = tf.keras.layers.experimental.preprocessing.Rescaling(1./255)(inputs)\n",
    "\n",
    "# 5. Pass the inputs to the base_model\n",
    "x = base_model(inputs)\n",
    "print(f\"Shape after passing inputs through base model: {x.shape}\")\n",
    "\n",
    "# 6. Avergae pool the outputs of the base model (aggregate all the most important information, reduce the number of computations)\n",
    "x = tf.keras.layers.GlobalAveragePooling2D(name = \"global_average_pooling_layer\")(x)\n",
    "print(f\"Shape after GlobalAveragePooling2D: {x.shape}\")\n",
    "\n",
    "# 7. Create the output activation layer\n",
    "outputs = tf.keras.layers.Dense(4, activation = \"softmax\", name = \"output_layer\")(x)\n",
    "\n",
    "# 8. Combine the inputs with the outputs into a model\n",
    "model_1 = tf.keras.Model(inputs, outputs)\n",
    "\n",
    "# 9. Compile the model\n",
    "model_1.compile(loss = \"categorical_crossentropy\",\n",
    "                optimizer = tf.keras.optimizers.Adam(),\n",
    "                metrics = [\"accuracy\"])\n",
    "\n",
    "# 10. Fit the model and save its history\n",
    "history_1 = model_1.fit(train_data,\n",
    "                        epochs = 5,\n",
    "                        steps_per_epoch = len(train_data),\n",
    "                        validation_data = validation_data,\n",
    "                        validation_steps = len(validation_data),\n",
    "                        callbacks = [create_tensorboard_callback(dir_name = \"transfer_learning\",\n",
    "                                                                experiment_name = \"model_1_feature_extraction\")])"
   ]
  },
  {
   "cell_type": "code",
   "execution_count": 9,
   "id": "63ff2c38",
   "metadata": {},
   "outputs": [
    {
     "name": "stdout",
     "output_type": "stream",
     "text": [
      "13/13 [==============================] - 28s 2s/step - loss: 0.0912 - accuracy: 0.9800\n"
     ]
    },
    {
     "data": {
      "text/plain": [
       "[0.0912180244922638, 0.9800498485565186]"
      ]
     },
     "execution_count": 9,
     "metadata": {},
     "output_type": "execute_result"
    }
   ],
   "source": [
    "# Evaluate on the full test dataset\n",
    "model_1.evaluate(test_data)"
   ]
  },
  {
   "cell_type": "code",
   "execution_count": 10,
   "id": "fda5b3f6",
   "metadata": {},
   "outputs": [
    {
     "data": {
      "image/png": "[encoded data removed]",
      "text/plain": [
       "<Figure size 432x288 with 1 Axes>"
      ]
     },
     "metadata": {
      "needs_background": "light"
     },
     "output_type": "display_data"
    },
    {
     "data": {
      "image/png": "[encoded data removed]",
      "text/plain": [
       "<Figure size 432x288 with 1 Axes>"
      ]
     },
     "metadata": {
      "needs_background": "light"
     },
     "output_type": "display_data"
    }
   ],
   "source": [
    "# Checking the model's training curves\n",
    "plot_loss_curves(history_1)"
   ]
  },
  {
   "cell_type": "code",
   "execution_count": 11,
   "id": "f06ad3b6",
   "metadata": {},
   "outputs": [
    {
     "name": "stderr",
     "output_type": "stream",
     "text": [
      "WARNING:absl:Found untraced functions such as _jit_compiled_convolution_op, _jit_compiled_convolution_op, _jit_compiled_convolution_op, _jit_compiled_convolution_op, _jit_compiled_convolution_op while saving (showing 5 of 273). These functions will not be directly callable after loading.\n"
     ]
    },
    {
     "name": "stdout",
     "output_type": "stream",
     "text": [
      "INFO:tensorflow:Assets written to: saved_models\\updated_feature_extraction_model_1_b7_ar_true\\assets\n"
     ]
    },
    {
     "name": "stderr",
     "output_type": "stream",
     "text": [
      "INFO:tensorflow:Assets written to: saved_models\\updated_feature_extraction_model_1_b7_ar_true\\assets\n"
     ]
    },
    {
     "name": "stdout",
     "output_type": "stream",
     "text": [
      "Model: updated_feature_extraction_model_1_b7_ar_true saved at saved_models\\updated_feature_extraction_model_1_b7_ar_true\n"
     ]
    }
   ],
   "source": [
    "save_model(model_1, \"updated_feature_extraction_model_1_b7_ar_true\")"
   ]
  },
  {
   "cell_type": "code",
   "execution_count": null,
   "id": "c3a5ae22",
   "metadata": {},
   "outputs": [],
   "source": []
  }
 ],
 "metadata": {
  "kernelspec": {
   "display_name": "Python 3 (ipykernel)",
   "language": "python",
   "name": "python3"
  },
  "language_info": {
   "codemirror_mode": {
    "name": "ipython",
    "version": 3
   },
   "file_extension": ".py",
   "mimetype": "text/x-python",
   "name": "python",
   "nbconvert_exporter": "python",
   "pygments_lexer": "ipython3",
   "version": "3.8.13"
  }
 },
 "nbformat": 4,
 "nbformat_minor": 5
}
